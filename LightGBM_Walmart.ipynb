{
  "nbformat": 4,
  "nbformat_minor": 0,
  "metadata": {
    "colab": {
      "provenance": []
    },
    "kernelspec": {
      "name": "python3",
      "display_name": "Python 3"
    },
    "language_info": {
      "name": "python"
    }
  },
  "cells": [
    {
      "cell_type": "code",
      "execution_count": null,
      "metadata": {
        "id": "V_ePHlcDK151"
      },
      "outputs": [],
      "source": [
        "%matplotlib inline\n",
        "import warnings\n",
        "warnings.filterwarnings('ignore')\n",
        "import pandas as pd\n",
        "import numpy as npç\n",
        "from IPython.core.interactiveshell import InteractiveShell\n",
        "InteractiveShell.ast_node_interactivity = \"all\""
      ]
    },
    {
      "cell_type": "code",
      "source": [
        "from sklearn.preprocessing import LabelEncoder\n",
        "from sklearn.metrics import mean_squared_error \n",
        "from lightgbm import  LGBMRegressor\n",
        "import pickle\n",
        "from sklearn.metrics import make_scorer\n",
        "from sklearn.model_selection import TimeSeriesSplit\n",
        "from sklearn.model_selection import RandomizedSearchCV\n",
        "from sklearn.metrics import mean_squared_error"
      ],
      "metadata": {
        "id": "wgxyy0h46hF0"
      },
      "execution_count": null,
      "outputs": []
    },
    {
      "cell_type": "code",
      "source": [
        "sales_train_evaluation_ = pd.read_csv('/content/sales_train_evaluation.csv')\n",
        "calendar_ = pd.read_csv('/content/calendar.csv')\n",
        "sell_prices_ = pd.read_csv('/content/sell_prices.csv')\n",
        "STORES_IDS = list(sales_train_evaluation_['store_id'].unique())"
      ],
      "metadata": {
        "id": "9ur_vuMeLB_s"
      },
      "execution_count": null,
      "outputs": []
    },
    {
      "cell_type": "code",
      "source": [
        "def reduce_mem_usage(df, verbose=True):\n",
        "    numerics = ['int16', 'int32', 'int64', 'float16', 'float32', 'float64']\n",
        "    start_mem = df.memory_usage().sum() / 1024**2    \n",
        "    for col in df.columns:\n",
        "        col_type = df[col].dtypes\n",
        "        if col_type in numerics:\n",
        "            c_min = df[col].min()\n",
        "            c_max = df[col].max()\n",
        "            if str(col_type)[:3] == 'int':\n",
        "                if c_min > np.iinfo(np.int8).min and c_max < np.iinfo(np.int8).max:\n",
        "                    df[col] = df[col].astype(np.int8)\n",
        "                elif c_min > np.iinfo(np.int16).min and c_max < np.iinfo(np.int16).max:\n",
        "                    df[col] = df[col].astype(np.int16)\n",
        "                elif c_min > np.iinfo(np.int32).min and c_max < np.iinfo(np.int32).max:\n",
        "                    df[col] = df[col].astype(np.int32)\n",
        "                elif c_min > np.iinfo(np.int64).min and c_max < np.iinfo(np.int64).max:\n",
        "                    df[col] = df[col].astype(np.int64)  \n",
        "            else:\n",
        "                if c_min > np.finfo(np.float16).min and c_max < np.finfo(np.float16).max:\n",
        "                    df[col] = df[col].astype(np.float16)\n",
        "                elif c_min > np.finfo(np.float32).min and c_max < np.finfo(np.float32).max:\n",
        "                    df[col] = df[col].astype(np.float32)\n",
        "                else:\n",
        "                    df[col] = df[col].astype(np.float64)    \n",
        "    end_mem = df.memory_usage().sum() / 1024**2\n",
        "    if verbose: print('Mem. usage decreased to {:5.2f} Mb ({:.1f}% reduction)'.format(end_mem, 100 * (start_mem - end_mem) / start_mem))\n",
        "    return df"
      ],
      "metadata": {
        "id": "hMzMzjI18F7f"
      },
      "execution_count": null,
      "outputs": []
    },
    {
      "cell_type": "code",
      "source": [
        "def data_processing(x):\n",
        "  #Adding columns for the days d_1942 to d_1969 as nan for which we need to forecast sales\n",
        "  for i in range(1942,1970):\n",
        "      x['d_'+str(i)]=np.nan\n",
        "      x['d_'+str(i)]=x['d_'+str(i)].astype(np.float16)\n",
        "\n",
        "  # Melting to convert one date to one observation\n",
        "  df=pd.melt(x,id_vars=['id','item_id','dept_id','cat_id','store_id','state_id'],var_name='d',value_name='demand')\n",
        "  # Merge calendar and sell_prices data\n",
        "  df=pd.merge(df,calendar_,on='d',how='left')\n",
        "  df=pd.merge(df,sell_prices_,on=['item_id','store_id','wm_yr_wk'],how='left')\n",
        "  df['sell_price']=df.groupby(['id'])['sell_price'].apply(lambda x: x.fillna(x.mean()))\n",
        "\n",
        "  # Fill events N/A\n",
        "  cat=['event_name_1','event_type_1','event_name_2','event_type_2']\n",
        "  for i in cat:\n",
        "      df[i].fillna('no_event',inplace=True)\n",
        "\n",
        "  # Create is_weekend feature\n",
        "  f=lambda x: 1 if x<=2 else 0\n",
        "  df['is_weekend']=df['wday'].map(f)\n",
        "  df['is_weekend']=df['is_weekend'].astype(np.int8)\n",
        "\n",
        "  # Create month_day feature\n",
        "  f=lambda x: x.split(\"-\")[2]\n",
        "  df['month_day']=df['date'].map(f)\n",
        "  df['month_day']=df['month_day'].astype(np.int8)\n",
        "\n",
        "  # Create month_week_number feature\n",
        "  df['month_week_number']=(df['month_day']-1) // 7 + 1  \n",
        "  df['month_week_number']=df['month_week_number'].astype(np.int8)\n",
        "\n",
        "  # Get sales by 3 aggregation level: store_id, item_id, store_id+dept_id\n",
        "  store_demand = df.groupby(['store_id','d'])['demand'].sum().reset_index().rename(columns={'demand':'store_demand'})\n",
        "  df = pd.merge(df, store_demand, on=['store_id','d'],how='left')\n",
        "  del store_demand\n",
        "\n",
        "  item_demand = df.groupby(['item_id','d'])['demand'].sum().reset_index().rename(columns={'demand':'item_demand'})\n",
        "  df = pd.merge(df, item_demand, on=['item_id','d'],how='left')\n",
        "  del item_demand\n",
        "\n",
        "  store_dept_demand = df.groupby(['store_id','dept_id','d'])['demand'].sum().reset_index().rename(columns={'demand':'store_dept_demand'})\n",
        "  df = pd.merge(df, store_dept_demand, on=['store_id','dept_id','d'],how='left')\n",
        "  del store_dept_demand\n",
        "\n",
        "  # Create lag variables\n",
        "  lag_col_prefixs = ['lag_','lag_price_','lag_store_demand_','lag_item_demand_','lag_store_dept_demand_']\n",
        "  lag_col_names = ['demand','sell_price','store_demand','item_demand','store_dept_demand']\n",
        "  for col_prefix, col_name in zip(lag_col_prefixs, lag_col_names):\n",
        "    lags=[28,35,42]\n",
        "    lag_cols=[]\n",
        "    for i in lags:\n",
        "        df[col_prefix+str(i)]=df.groupby(['id'])[col_name].shift(i)\n",
        "        lag_cols.append(col_prefix+str(i))\n",
        "    # lag_cols=['lag_28','lag_35','lag_42']\n",
        "    for i in lag_cols:\n",
        "        df[i].fillna(0,inplace=True)\n",
        "\n",
        "  # demand mean&std\n",
        "  for val in [7, 30, 60, 90, 180]:\n",
        "          df[f\"rolling_std_t{val}\"] = df.groupby([\"id\"])[\"demand\"].transform(lambda x: x.shift(28).rolling(val).std())\n",
        "  for val in [7, 30, 60, 90, 180]:\n",
        "        df[f\"rolling_mean_t{val}\"] = df.groupby([\"id\"])[\"demand\"].transform(lambda x: x.shift(28).rolling(val).mean())\n",
        "\n",
        "  df[\"rolling_skew_t30\"] = df.groupby([\"id\"])[\"demand\"].transform( lambda x: x.shift(28).rolling(30).skew())\n",
        "  df[\"rolling_kurt_t30\"] = df.groupby([\"id\"])[\"demand\"].transform(lambda x: x.shift(28).rolling(30).kurt())\n",
        "    \n",
        "  # price features\n",
        "  df['lag_price_t1'] = df.groupby(['id'])['sell_price'].transform(lambda x: x.shift(1))\n",
        "  df['price_change_t1'] = (df['lag_price_t1'] - df['sell_price']) / (df['lag_price_t1'])\n",
        "  df['rolling_price_max_t365'] = df.groupby(['id'])['sell_price'].transform(lambda x: x.shift(1).rolling(365).max())\n",
        "  df['price_change_t365'] = (df['rolling_price_max_t365'] - df['sell_price']) / (df['rolling_price_max_t365'])\n",
        "  df['rolling_price_std_t7'] = df.groupby(['id'])['sell_price'].transform(lambda x: x.rolling(7).std())\n",
        "  df['rolling_price_std_t30'] = df.groupby(['id'])['sell_price'].transform(lambda x: x.rolling(30).std())\n",
        "  df.drop(['rolling_price_max_t365', 'lag_price_t1'], inplace = True, axis = 1)\n",
        "\n",
        "  # Encoding\n",
        "  labelencoder=LabelEncoder() \n",
        "  category=['event_name_1','event_type_1','event_name_2','event_type_2','id','item_id','dept_id','cat_id','store_id','state_id']\n",
        "  for i in category:\n",
        "      df[i+'_']=labelencoder.fit_transform(df[i])\n",
        "\n",
        "  df=df.drop(['event_name_1','event_type_1','event_name_2','event_type_2','id','item_id','dept_id','cat_id','store_id','state_id'],axis=1)\n",
        "\n",
        "  # Convert string date to int date\n",
        "  f=lambda x: x.split('_')[1]\n",
        "  df['day']=df['d'].map(f)\n",
        "  df['day']=df['day'].astype(np.int16) \n",
        "\n",
        "  # Cleanup - drop redundant columns\n",
        "  df=df.drop(['d','date','weekday'],axis=1)\n",
        "\n",
        "  return df"
      ],
      "metadata": {
        "id": "DcXgbTuv8n7_"
      },
      "execution_count": null,
      "outputs": []
    },
    {
      "cell_type": "code",
      "source": [
        "############ Data Processing ############\n",
        "# Calculate event count each day\n",
        "calendar_['event_count'] = calendar_[['event_name_1','event_name_2']].apply(lambda x: 2-x.isna().sum(), axis=1)\n",
        "# Apply data_processing function\n",
        "sales_train_evaluation_ = reduce_mem_usage(sales_train_evaluation_)\n",
        "processed_df = data_processing(sales_train_evaluation_)"
      ],
      "metadata": {
        "colab": {
          "base_uri": "https://localhost:8080/"
        },
        "id": "QU5KT5UjDnQa",
        "outputId": "a922ac3c-f434-490a-8e40-e7cf0b9b6373"
      },
      "execution_count": null,
      "outputs": [
        {
          "output_type": "stream",
          "name": "stdout",
          "text": [
            "Mem. usage decreased to 96.13 Mb (78.8% reduction)\n"
          ]
        }
      ]
    },
    {
      "cell_type": "code",
      "source": [
        "############ Hyperparameter tuning with RandomizedSearchCV ############\n",
        "def custom_split(X, y, groups):\n",
        "  for train_index, test_index in groups:\n",
        "    original_train_index = np.array(X[X['day'].isin(train_index+1)].index)\n",
        "    original_test_index = np.array(X[X['day'].isin(test_index+1)].index)\n",
        "    yield original_train_index, original_test_index\n",
        "\n",
        "# Train by store\n",
        "STORES_IDS = list(processed_df['store_id_'].unique())\n",
        "for store_id in STORES_IDS:\n",
        "  df1 = processed_df[processed_df.store_id_ == store_id]\n",
        "  # file_path = 'processed_data_by_store/'+store_id+'.csv'\n",
        "  # df1 = pd.read_csv(file_path)\n",
        "  df1 = reduce_mem_usage(df1)\n",
        "  # remove testing data\n",
        "  df1 = df1[df1['day']<1942]\n",
        "\n",
        "  df1 = df1.reset_index().drop(\"index\",axis=1)\n",
        "  X = df1.iloc[:, 1:]\n",
        "  y = df1['demand']\n",
        "  \n",
        "  tscv = TimeSeriesSplit(n_splits=5, test_size=28)\n",
        "  groups = tscv.split(df1['day'].unique())\n",
        "\n",
        "  lgb = LGBMRegressor(objective=\"tweedie\")\n",
        "\n",
        "  lgb_grid = {'learning_rate': reciprocal(3e-3, 3e-1),\n",
        "            'max_depth': list(range(50,70)) ,\n",
        "            'num_leaves': list(range(150,300)) ,\n",
        "            'n_estimators': list(range(100,200))}\n",
        "\n",
        "  lgb_reg = RandomizedSearchCV(lgb, param_distributions=lgb_grid,\n",
        "                            n_jobs=-1, scoring = 'neg_mean_squared_error', cv=custom_split(X, y, groups))\n",
        "  lgb_reg.fit(X, y)\n",
        "  print(store_id, '\\t', lgb_reg.best_params_)\n",
        "  print(store_id, '\\t', lgb_reg.best_score_)\n",
        "  model_path = 'lgb_model_dump/lgb_model_store_'+str(store_id)+'.bin'\n",
        "  pickle.dump(lgb_reg.best_estimator_, open(model_path, 'wb'))"
      ],
      "metadata": {
        "id": "rGYMRv5TCimz",
        "colab": {
          "base_uri": "https://localhost:8080/"
        },
        "outputId": "4dd0bc98-2656-4ae9-a182-50cd249ae955"
      },
      "execution_count": null,
      "outputs": [
        {
          "metadata": {
            "tags": null
          },
          "name": "stdout",
          "output_type": "stream",
          "text": [
            "Mem. usage decreased to 389.32 Mb (79.8% reduction)\n"
          ]
        }
      ]
    },
    {
      "cell_type": "code",
      "source": [
        "# Initialize submission dataframe\n",
        "pred_test=pd.DataFrame()\n",
        "pred_test['id']=sales_train_evaluation_['id']\n",
        "pred_test['store_id']=sales_train_evaluation_['store_id'] \n",
        "for i in range(1,29):\n",
        "    pred_test['F'+str(i)]=np.nan\n",
        "    pred_test['F'+str(i)]=pred_test['F'+str(i)].astype(np.float16)"
      ],
      "metadata": {
        "id": "gauFBWe-2yya"
      },
      "execution_count": null,
      "outputs": []
    },
    {
      "cell_type": "code",
      "source": [
        "# Make test predictions by store\n",
        "for store_id in STORES_IDS:\n",
        "  file_path = '/content/'+store_id+'.csv'\n",
        "  df = pd.read_csv(file_path)\n",
        "  x_test=df.loc[df['day']>=1942]\n",
        "  x_test = x_test.drop(['demand'],axis=1)\n",
        "  model_path = '/content/lgb_model_'+store_id+'.bin'\n",
        "  lgb = pickle.load(open(model_path, 'rb'))\n",
        "  k=1\n",
        "  for i in range(1942,1970):\n",
        "    # Read all our models and make predictions for each day/store pairs\n",
        "    pred_test['F'+str(k)][pred_test['store_id']==store_id]=lgb.predict(x_test[x_test['day']==(i)]) \n",
        "    k+=1\n",
        "    \n",
        "prediction_test=pred_test"
      ],
      "metadata": {
        "id": "FG6SOX0n9dgd"
      },
      "execution_count": null,
      "outputs": []
    },
    {
      "cell_type": "code",
      "source": [
        "# Output the final submission file\n",
        "import time \n",
        "current_timestamp = int(time.time())\n",
        "prediction_test = prediction_test.drop('store_id',axis=1)\n",
        "sample_submission = pd.read_csv('/content/sample_submission.csv')\n",
        "sample_validation = sample_submission.iloc[:30490,:]\n",
        "final = pd.concat([sample_validation, prediction_test])\n",
        "file_path = '/content/prediction_result' + str(current_timestamp) + '.csv'\n",
        "final.to_csv(file_path,index=False)"
      ],
      "metadata": {
        "id": "HVToqrKzITlU"
      },
      "execution_count": null,
      "outputs": []
    },
    {
      "cell_type": "code",
      "source": [
        "############ Feature Importance ############\n",
        "model_path = '/content/lgb_model_'+\"CA_1\"+'.bin'\n",
        "lgb_ca_1 = pickle.load(open(model_path, 'rb'))\n",
        "import matplotlib.pyplot as plt\n",
        "import seaborn as sns\n",
        "import warnings\n",
        "warnings.simplefilter(action='ignore', category=FutureWarning)\n",
        "file_path = '/content/'+'CA_1'+'.csv'\n",
        "df1 = pd.read_csv(file_path)\n",
        "df1 = reduce_mem_usage(df1)\n",
        " # remove testing data\n",
        "df1 = df1[df1['day']<1942]\n",
        "\n",
        "df = df1.reset_index().drop(\"index\",axis=1)\n",
        "X = df.iloc[:, 1:]\n",
        "y = df['demand']\n",
        "# sorted(zip(clf.feature_importances_, X.columns), reverse=True)\n",
        "feature_imp = pd.DataFrame(sorted(zip(lgb_ca_1.feature_importances_,X.columns)), columns=['Value','Feature'])\n",
        "\n",
        "plt.figure(figsize=(20, 10))\n",
        "sns.barplot(x=\"Value\", y=\"Feature\", data=feature_imp.sort_values(by=\"Value\", ascending=False))\n",
        "plt.title('LightGBM Features (avg over folds)')\n",
        "plt.tight_layout()\n",
        "plt.show()"
      ],
      "metadata": {
        "colab": {
          "base_uri": "https://localhost:8080/",
          "height": 581
        },
        "id": "1pUceHlZ2Qxs",
        "outputId": "f2e0e8ea-d05f-46be-d916-bab0c65b94d4"
      },
      "execution_count": null,
      "outputs": [
        {
          "output_type": "stream",
          "name": "stdout",
          "text": [
            "Mem. usage decreased to 206.11 Mb (82.7% reduction)\n"
          ]
        },
        {
          "output_type": "execute_result",
          "data": {
            "text/plain": [
              "<Figure size 1440x720 with 0 Axes>"
            ]
          },
          "metadata": {},
          "execution_count": 12
        },
        {
          "output_type": "execute_result",
          "data": {
            "text/plain": [
              "<matplotlib.axes._subplots.AxesSubplot at 0x7fa3e2a5bb50>"
            ]
          },
          "metadata": {},
          "execution_count": 12
        },
        {
          "output_type": "execute_result",
          "data": {
            "text/plain": [
              "Text(0.5, 1.0, 'LightGBM Features (avg over folds)')"
            ]
          },
          "metadata": {},
          "execution_count": 12
        },
        {
          "output_type": "display_data",
          "data": {
            "image/png": "[encoded data removed]",
            "text/plain": [
              "<Figure size 1440x720 with 1 Axes>"
            ]
          },
          "metadata": {
            "needs_background": "light"
          }
        }
      ]
    },
    {
      "cell_type": "code",
      "source": [
        "model_path = '/content/lgb_model_'+\"TX_1\"+'.bin'\n",
        "TX_1 = pickle.load(open(model_path, 'rb'))\n",
        "import matplotlib.pyplot as plt\n",
        "import seaborn as sns\n",
        "import warnings\n",
        "warnings.simplefilter(action='ignore', category=FutureWarning)\n",
        "file_path = '/content/'+'TX_1'+'.csv'\n",
        "df1 = pd.read_csv(file_path)\n",
        "df1 = reduce_mem_usage(df1)\n",
        " # remove testing data\n",
        "df1 = df1[df1['day']<1942]\n",
        "\n",
        "df = df1.reset_index().drop(\"index\",axis=1)\n",
        "X = df.iloc[:, 1:]\n",
        "y = df['demand']\n",
        "# sorted(zip(clf.feature_importances_, X.columns), reverse=True)\n",
        "feature_imp = pd.DataFrame(sorted(zip(TX_1.feature_importances_,X.columns)), columns=['Value','Feature'])\n",
        "\n",
        "plt.figure(figsize=(20, 10))\n",
        "sns.barplot(x=\"Value\", y=\"Feature\", data=feature_imp.sort_values(by=\"Value\", ascending=False))\n",
        "plt.title('LightGBM Features (avg over folds)')\n",
        "plt.tight_layout()\n",
        "plt.show()"
      ],
      "metadata": {
        "colab": {
          "base_uri": "https://localhost:8080/",
          "height": 581
        },
        "id": "TKQ2Afc6-ov6",
        "outputId": "fd17edb0-9ea1-4bbf-f30d-37c635fcf00c"
      },
      "execution_count": null,
      "outputs": [
        {
          "output_type": "stream",
          "name": "stdout",
          "text": [
            "Mem. usage decreased to 206.11 Mb (82.7% reduction)\n"
          ]
        },
        {
          "output_type": "execute_result",
          "data": {
            "text/plain": [
              "<Figure size 1440x720 with 0 Axes>"
            ]
          },
          "metadata": {},
          "execution_count": 14
        },
        {
          "output_type": "execute_result",
          "data": {
            "text/plain": [
              "<matplotlib.axes._subplots.AxesSubplot at 0x7fa3e22b2250>"
            ]
          },
          "metadata": {},
          "execution_count": 14
        },
        {
          "output_type": "execute_result",
          "data": {
            "text/plain": [
              "Text(0.5, 1.0, 'LightGBM Features (avg over folds)')"
            ]
          },
          "metadata": {},
          "execution_count": 14
        },
        {
          "output_type": "display_data",
          "data": {
            "image/png": "[encoded data removed]",
            "text/plain": [
              "<Figure size 1440x720 with 1 Axes>"
            ]
          },
          "metadata": {
            "needs_background": "light"
          }
        }
      ]
    },
    {
      "cell_type": "code",
      "source": [],
      "metadata": {
        "id": "fO2ewUy02pXc"
      },
      "execution_count": null,
      "outputs": []
    }
  ]
}